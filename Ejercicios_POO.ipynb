{
  "nbformat": 4,
  "nbformat_minor": 0,
  "metadata": {
    "colab": {
      "provenance": []
    },
    "kernelspec": {
      "name": "python3",
      "display_name": "Python 3"
    },
    "language_info": {
      "name": "python"
    }
  },
  "cells": [
    {
      "cell_type": "markdown",
      "source": [
        "## Ejercicios POO"
      ],
      "metadata": {
        "id": "TgBu7yBbjvVR"
      }
    },
    {
      "cell_type": "markdown",
      "source": [
        "\n",
        "\n",
        "1.   Describe cuáles son las diferencias entre clases y objetos.\n",
        "\n",
        "    Es una plantilla que establece caracteristicas que se usan hasta crear un objeto.\n",
        "\n",
        "    Un objeto es una instancia concreta de una clase. Cuando se crea un objeto, se reserva un espacio en memoria que contiene su propio conjunto de valores de atributos y métodos definidos por su clase.\n",
        "2. Describe por qué usamos self como primer argumento en los métodos.\n",
        "\n",
        "    El SELF es una referencia al objeto actual. Se utiliza en los métodos de una clase para acceder a los atributos y métodos del objeto.\n",
        "\n",
        "3. ¿Qué es un constructor? ¿Y por qué lo usamos?\n",
        "\n",
        "    Un constructor es un método especial en una clase que se llama automáticamente cuando se crea un nuevo objeto de esa clase. Se utiliza para inicializar el objeto con valores iniciales o para realizar cualquier configuración necesaria al momento de la creación del objeto.\n",
        "4. Describir las diferencias entre los atributos de clase y de instancia.\n",
        "\n",
        "   Son variables que se declaran dentro de una clase, pero fuera de cualquier método.\n",
        "   Los atributos de clase son compartidos por todas las instancias de una clase. Esto significa que si cambias el valor de un atributo de clase, ese cambio se reflejará en todas las instancias de esa clase.\n",
        "\n",
        "   Los atributos de instancia son únicos para cada instancia de una clase. Esto significa que cada objeto puede tener valores diferentes para estos atributos.\n",
        "   Son útiles cuando quieres que cada instancia tenga sus propias copias de datos, que puedan variar de una instancia a otra.\n",
        "\n",
        "5. La siguiente es una definición de la clase Punto que toma las coordenadas x, y. Agregue un método plot_point que trace la posición del punto.\n",
        "\n",
        "   \n",
        "6. Documenta y prueba con algunos puntos el siguiente código:\n",
        "\n",
        "```\n",
        "#\n",
        "import matplotlib.pyplot as plt\n",
        "# Clase madre\n",
        "class Punto():\n",
        "    def __init__(self, x, y):\n",
        "        self.x = x\n",
        "        self.y = y\n",
        "# Grafica\n",
        "    def plot(self):\n",
        "        plt.scatter(self.x, self.y, color='red', marker='o')\n",
        "        plt.xlabel('X-axis')\n",
        "        plt.ylabel('Y-axis')\n",
        "        plt.title('Gráfica del punto')\n",
        "        plt.grid(True)\n",
        "        plt.show()\n",
        "```\n",
        "\n",
        "7. Cree una clase para modelar algún objeto del mundo real y cree una nueva clase para heredar de él. Un ejemplo puede ser el siguiente. Deberías usar un ejemplo diferente y usar tantas cosas que aprendimos como sea posible.\n",
        "\n",
        "\n",
        "\n",
        "```\n",
        "# class Avion():\n",
        "    def __init__(self, marca, color):\n",
        "        self.marca = marca\n",
        "        self.color = color\n",
        "    \n",
        "    def encender(self):\n",
        "        print('!Listo para despegar!')\n",
        "        \n",
        "class Avioneta(Carro):\n",
        "    def __init__(self, marca, color, tamaño):\n",
        "        super().__init__(marca, color)\n",
        "        self.tamaño = tamaño\n",
        "        \n",
        "    def encender(self, llave):\n",
        "        if llave == 'llave_avioneta':\n",
        "            print('¡Listo para conducir!')\n",
        "        else:\n",
        "            print('La llave no es la correcta')\n",
        "            \n",
        "    def apagar(self, apagar):\n",
        "        if apagar:\n",
        "            print('¡El motor está apagado!')\n",
        "        else:\n",
        "            print('¡Sigo volando!')\n",
        "\n",
        "```\n",
        "\n",
        "\n",
        "\n"
      ],
      "metadata": {
        "id": "OlqRnXzXhqwb"
      }
    },
    {
      "cell_type": "code",
      "source": [
        "import matplotlib.pyplot as plt\n",
        "# Clase madre\n",
        "class Punto():\n",
        "    def __init__(self, x, y):\n",
        "        self.x = x\n",
        "        self.y = y\n",
        "# Grafica\n",
        "    def plot(self):\n",
        "        plt.scatter(self.x, self.y, color='red', marker='o')\n",
        "        plt.xlabel('X-axis')\n",
        "        plt.ylabel('Y-axis')\n",
        "        plt.title('Gráfica del punto')\n",
        "        plt.grid(True)\n",
        "        plt.show()"
      ],
      "metadata": {
        "id": "7skCcYA0icoq"
      },
      "execution_count": 4,
      "outputs": []
    },
    {
      "cell_type": "code",
      "source": [
        "Punto(2,5)"
      ],
      "metadata": {
        "id": "AYwIa42z-Wz3",
        "outputId": "f1d1b27b-84c0-48e7-ed3e-031e6e2d9d41",
        "colab": {
          "base_uri": "https://localhost:8080/"
        }
      },
      "execution_count": 5,
      "outputs": [
        {
          "output_type": "execute_result",
          "data": {
            "text/plain": [
              "<__main__.Punto at 0x7932966abc10>"
            ]
          },
          "metadata": {},
          "execution_count": 5
        }
      ]
    },
    {
      "cell_type": "code",
      "source": [
        "Punto(2,5).plot()"
      ],
      "metadata": {
        "id": "-WAkLYLR-mRZ",
        "outputId": "b5640447-c832-475e-a5ac-fb8605bb095f",
        "colab": {
          "base_uri": "https://localhost:8080/",
          "height": 472
        }
      },
      "execution_count": 6,
      "outputs": [
        {
          "output_type": "display_data",
          "data": {
            "text/plain": [
              "<Figure size 640x480 with 1 Axes>"
            ],
            "image/png": "[encoded data removed]"
          },
          "metadata": {}
        }
      ]
    },
    {
      "cell_type": "code",
      "source": [
        "class Avion():\n",
        "    def __init__(self, marca, color):\n",
        "        self.marca = marca\n",
        "        self.color = color\n",
        "\n",
        "    def encender(self):\n",
        "        print('!Listo para despegar!')\n",
        "\n",
        "class Avioneta(Avion):\n",
        "    def __init__(self, marca, color, tamaño):\n",
        "        super().__init__(marca, color)\n",
        "        self.tamaño = tamaño\n",
        "\n",
        "    def encender(self, llave):\n",
        "        if llave == 'llave_avioneta':\n",
        "            print('¡Listo para conducir!')\n",
        "        else:\n",
        "            print('La llave no es la correcta')\n",
        "\n",
        "    def apagar(self, apagar):\n",
        "        if apagar:\n",
        "            print('¡El motor está apagado!')\n",
        "        else:\n",
        "            print('¡Sigo volando!')"
      ],
      "metadata": {
        "id": "KXcky0Qi98en"
      },
      "execution_count": 2,
      "outputs": []
    }
  ]
}