{
  "nbformat": 4,
  "nbformat_minor": 0,
  "metadata": {
    "colab": {
      "provenance": []
    },
    "kernelspec": {
      "name": "python3",
      "display_name": "Python 3"
    },
    "language_info": {
      "name": "python"
    }
  },
  "cells": [
    {
      "cell_type": "markdown",
      "source": [
        "# Clases, Herencias y Polimorfismos"
      ],
      "metadata": {
        "id": "j4PHnJ1CZZgj"
      }
    },
    {
      "cell_type": "code",
      "source": [
        "class Mascota():\n",
        "  def __init__(self):\n",
        "    print(\"creamos una clase madre\")\n",
        "\n",
        "  def adivina(self):\n",
        "    print(\"hola, soy un perro\")\n",
        "\n",
        "  def hablar(self):\n",
        "    print(\"ladro\")\n",
        "\n",
        "  def jugar(self):\n",
        "    print(\"rueda\")\n",
        "\n",
        "  def atacar(self):\n",
        "    print(\"muerde\")\n",
        "\n",
        "\n"
      ],
      "metadata": {
        "id": "vSq1we0jZmDS"
      },
      "execution_count": 41,
      "outputs": []
    },
    {
      "cell_type": "code",
      "source": [
        "mascota = Mascota()"
      ],
      "metadata": {
        "colab": {
          "base_uri": "https://localhost:8080/"
        },
        "id": "cEzIQ1y6dRSy",
        "outputId": "b1056e58-f9c0-4292-ad3f-dd25769bbe92"
      },
      "execution_count": 42,
      "outputs": [
        {
          "output_type": "stream",
          "name": "stdout",
          "text": [
            "creamos una clase madre\n"
          ]
        }
      ]
    },
    {
      "cell_type": "code",
      "source": [
        "mascota.adivina()"
      ],
      "metadata": {
        "colab": {
          "base_uri": "https://localhost:8080/"
        },
        "id": "RUHTlfhXd3L-",
        "outputId": "516a36fa-fc95-4ecc-cb01-a819b83d6adb"
      },
      "execution_count": 43,
      "outputs": [
        {
          "output_type": "stream",
          "name": "stdout",
          "text": [
            "hola, soy un perro\n"
          ]
        }
      ]
    },
    {
      "cell_type": "code",
      "source": [
        "mascota.hablar()"
      ],
      "metadata": {
        "colab": {
          "base_uri": "https://localhost:8080/"
        },
        "id": "RqbQ6sYMevrx",
        "outputId": "331076f2-6070-4cfa-f38b-9077b4e3a66f"
      },
      "execution_count": 44,
      "outputs": [
        {
          "output_type": "stream",
          "name": "stdout",
          "text": [
            "ladro\n"
          ]
        }
      ]
    },
    {
      "cell_type": "code",
      "source": [
        "mascota.jugar()"
      ],
      "metadata": {
        "colab": {
          "base_uri": "https://localhost:8080/"
        },
        "id": "9T2__rjTfhRl",
        "outputId": "0b2c217f-cdde-4198-fe23-8656dbc69cc2"
      },
      "execution_count": 45,
      "outputs": [
        {
          "output_type": "stream",
          "name": "stdout",
          "text": [
            "rueda\n"
          ]
        }
      ]
    },
    {
      "cell_type": "code",
      "source": [
        "mascota.atacar()"
      ],
      "metadata": {
        "colab": {
          "base_uri": "https://localhost:8080/"
        },
        "id": "BBWH4PZdf-Bz",
        "outputId": "370ccfdd-0617-480b-d96d-0a22e21fe7a4"
      },
      "execution_count": 46,
      "outputs": [
        {
          "output_type": "stream",
          "name": "stdout",
          "text": [
            "muerde\n"
          ]
        }
      ]
    },
    {
      "cell_type": "markdown",
      "source": [
        "# **Crear Una Herencia**"
      ],
      "metadata": {
        "id": "iBhrtXr1g2_j"
      }
    },
    {
      "cell_type": "code",
      "source": [
        "class Perro(Mascota):\n",
        "  def __init__(self):\n",
        "    Mascota.__init__(self)\n",
        "    print(\"CReamos una clase heredada\")\n",
        "\n",
        "  def nombra(self):\n",
        "    print(\"Luna\")\n",
        "\n",
        "  def idioma(self):\n",
        "    print(\"Wuaf\")\n",
        ""
      ],
      "metadata": {
        "id": "vXmk6SNTg-n9"
      },
      "execution_count": 47,
      "outputs": []
    },
    {
      "cell_type": "code",
      "source": [
        "perro = Perro() # Llamamos a la clase heredada"
      ],
      "metadata": {
        "colab": {
          "base_uri": "https://localhost:8080/"
        },
        "id": "OsE2E2nsihQI",
        "outputId": "99984ec4-2910-46b9-fe96-04617a698704"
      },
      "execution_count": 48,
      "outputs": [
        {
          "output_type": "stream",
          "name": "stdout",
          "text": [
            "creamos una clase madre\n",
            "CReamos una clase heredada\n"
          ]
        }
      ]
    },
    {
      "cell_type": "code",
      "source": [
        "mascota.adivina()"
      ],
      "metadata": {
        "colab": {
          "base_uri": "https://localhost:8080/"
        },
        "id": "iWOJpa1rk29P",
        "outputId": "1f2bfb38-28b3-408a-ec91-888f48f5382b"
      },
      "execution_count": 49,
      "outputs": [
        {
          "output_type": "stream",
          "name": "stdout",
          "text": [
            "hola, soy un perro\n"
          ]
        }
      ]
    },
    {
      "cell_type": "code",
      "source": [
        "perro.adivina()"
      ],
      "metadata": {
        "colab": {
          "base_uri": "https://localhost:8080/"
        },
        "id": "X9DDa8Jck9ob",
        "outputId": "a0f05cc6-4d50-43b7-c699-2aa60b486cea"
      },
      "execution_count": 50,
      "outputs": [
        {
          "output_type": "stream",
          "name": "stdout",
          "text": [
            "hola, soy un perro\n"
          ]
        }
      ]
    },
    {
      "cell_type": "markdown",
      "source": [
        "# **Ejercicio**"
      ],
      "metadata": {
        "id": "HIwenBidmQSw"
      }
    },
    {
      "cell_type": "code",
      "source": [
        "class Futbolista():\n",
        "\n",
        "  def __init(self):\n",
        "    print(\"Creamos una clase madre\")\n",
        "\n",
        "  def Presiona(self):\n",
        "    print(\"sube a la parte rival de la cancha\")\n",
        "\n",
        "  def Tira(self):\n",
        "    print(\"dispara al arco rival\")\n",
        "\n",
        "  def centra(self):\n",
        "    print(\"manda centro al area rival\")"
      ],
      "metadata": {
        "id": "8rgaWsjyoeuY"
      },
      "execution_count": 51,
      "outputs": []
    },
    {
      "cell_type": "code",
      "source": [
        "class Deportista(Futbolista):\n",
        "  def __init__(self):\n",
        "    Futbolista.__init__(self)\n",
        "    print(\"Creamos una clase heredada\")\n",
        "\n",
        "  def pared(self):\n",
        "    print(\"hace pared con su compañero\")\n",
        "\n",
        "  def filtrar(self):\n",
        "    print(\"manda pase filtrado\")\n"
      ],
      "metadata": {
        "id": "GSn3PbgVphca"
      },
      "execution_count": 52,
      "outputs": []
    },
    {
      "cell_type": "code",
      "source": [
        "dep = Deportista()"
      ],
      "metadata": {
        "colab": {
          "base_uri": "https://localhost:8080/"
        },
        "id": "hF2QTK2Qqw6A",
        "outputId": "64140dce-d5eb-46a8-a612-aaf1c1efc833"
      },
      "execution_count": 54,
      "outputs": [
        {
          "output_type": "stream",
          "name": "stdout",
          "text": [
            "Creamos una clase heredada\n"
          ]
        }
      ]
    },
    {
      "cell_type": "code",
      "source": [
        "dep.pared()"
      ],
      "metadata": {
        "colab": {
          "base_uri": "https://localhost:8080/"
        },
        "id": "GFHuG4zAq5Es",
        "outputId": "bb5daa98-2a2f-4fda-9115-d20de260553f"
      },
      "execution_count": 55,
      "outputs": [
        {
          "output_type": "stream",
          "name": "stdout",
          "text": [
            "hace pared con su compañero\n"
          ]
        }
      ]
    },
    {
      "cell_type": "code",
      "source": [
        "fut = Futbolista()"
      ],
      "metadata": {
        "id": "ykiX198BrX3_"
      },
      "execution_count": 56,
      "outputs": []
    },
    {
      "cell_type": "code",
      "source": [
        "fut.Tira()"
      ],
      "metadata": {
        "colab": {
          "base_uri": "https://localhost:8080/"
        },
        "id": "4N2VLOCIrd1g",
        "outputId": "71c488a6-4a1f-44af-bcd8-642f5523107d"
      },
      "execution_count": 57,
      "outputs": [
        {
          "output_type": "stream",
          "name": "stdout",
          "text": [
            "dispara al arco rival\n"
          ]
        }
      ]
    },
    {
      "cell_type": "code",
      "source": [],
      "metadata": {
        "id": "sXzNVyalrh_J"
      },
      "execution_count": null,
      "outputs": []
    }
  ]
}