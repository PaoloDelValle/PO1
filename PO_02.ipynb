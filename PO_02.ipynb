{
  "nbformat": 4,
  "nbformat_minor": 0,
  "metadata": {
    "colab": {
      "provenance": []
    },
    "kernelspec": {
      "name": "python3",
      "display_name": "Python 3"
    },
    "language_info": {
      "name": "python"
    }
  },
  "cells": [
    {
      "cell_type": "markdown",
      "source": [
        "#**Listas**"
      ],
      "metadata": {
        "id": "XD9z6jfgUIRZ"
      }
    },
    {
      "cell_type": "code",
      "source": [
        "#Vamos a generar una lista vacía\n",
        "L = []\n",
        "range (10)"
      ],
      "metadata": {
        "id": "TkvdQagZUnWj"
      },
      "execution_count": null,
      "outputs": []
    },
    {
      "cell_type": "code",
      "source": [
        "for i in range(10): print(i)\n"
      ],
      "metadata": {
        "colab": {
          "base_uri": "https://localhost:8080/"
        },
        "id": "63EIkhHSVkdh",
        "outputId": "fbf52e4a-9f99-4736-c9bb-26d5ff638f8b"
      },
      "execution_count": 1,
      "outputs": [
        {
          "output_type": "stream",
          "name": "stdout",
          "text": [
            "0\n",
            "1\n",
            "2\n",
            "3\n",
            "4\n",
            "5\n",
            "6\n",
            "7\n",
            "8\n",
            "9\n"
          ]
        }
      ]
    },
    {
      "cell_type": "code",
      "source": [
        "L = [1,2,3,4]\n",
        "L"
      ],
      "metadata": {
        "colab": {
          "base_uri": "https://localhost:8080/"
        },
        "id": "y7vDtcW0XA33",
        "outputId": "381efc22-7f57-4416-c3fb-7e38537da873"
      },
      "execution_count": 2,
      "outputs": [
        {
          "output_type": "execute_result",
          "data": {
            "text/plain": [
              "[1, 2, 3, 4]"
            ]
          },
          "metadata": {},
          "execution_count": 2
        }
      ]
    },
    {
      "cell_type": "code",
      "source": [
        "L.append(5)\n",
        "L"
      ],
      "metadata": {
        "colab": {
          "base_uri": "https://localhost:8080/"
        },
        "id": "9or5oGwwXJE7",
        "outputId": "ba705dec-859e-43f5-a398-700fd45fb488"
      },
      "execution_count": 5,
      "outputs": [
        {
          "output_type": "execute_result",
          "data": {
            "text/plain": [
              "[1, 2, 3, 4, 5, 5, 5]"
            ]
          },
          "metadata": {},
          "execution_count": 5
        }
      ]
    },
    {
      "cell_type": "code",
      "source": [
        "L.remove(5)\n"
      ],
      "metadata": {
        "id": "heSTWCM4XbR1"
      },
      "execution_count": 7,
      "outputs": []
    },
    {
      "cell_type": "code",
      "source": [
        "L"
      ],
      "metadata": {
        "colab": {
          "base_uri": "https://localhost:8080/"
        },
        "id": "4pWcs9LSXgpD",
        "outputId": "2aa027c7-bb3c-4d23-8d6c-4c5f3cc2ecbd"
      },
      "execution_count": 8,
      "outputs": [
        {
          "output_type": "execute_result",
          "data": {
            "text/plain": [
              "[1, 2, 3, 4, 5]"
            ]
          },
          "metadata": {},
          "execution_count": 8
        }
      ]
    },
    {
      "cell_type": "code",
      "source": [
        "len([2,4,6,8])"
      ],
      "metadata": {
        "id": "stAhVsSAa0cz"
      },
      "execution_count": null,
      "outputs": []
    },
    {
      "cell_type": "code",
      "source": [
        "Pares = [i for i in range (1,101) if i%2==0]\n",
        "Pares"
      ],
      "metadata": {
        "id": "w1ylvXohbTfF"
      },
      "execution_count": null,
      "outputs": []
    },
    {
      "cell_type": "code",
      "source": [
        "Impares = [i for i in range (1,101) if i%2!=0]\n",
        "Impares"
      ],
      "metadata": {
        "id": "SLtnjDEZeLbW"
      },
      "execution_count": null,
      "outputs": []
    },
    {
      "cell_type": "markdown",
      "source": [
        "#Modulo Numpy"
      ],
      "metadata": {
        "id": "6qtYEi3BfuRq"
      }
    },
    {
      "cell_type": "code",
      "source": [
        "import numpy as np"
      ],
      "metadata": {
        "id": "ymj45HaggMHB"
      },
      "execution_count": 27,
      "outputs": []
    },
    {
      "cell_type": "code",
      "source": [
        "list=[x for x in np.random.randint(1,11,100) if x%2==0]\n",
        "list"
      ],
      "metadata": {
        "colab": {
          "base_uri": "https://localhost:8080/"
        },
        "id": "KQIzSgYEj2O-",
        "outputId": "3a2fae32-1a46-4034-94fd-2214eaa4a5f3"
      },
      "execution_count": 29,
      "outputs": [
        {
          "output_type": "execute_result",
          "data": {
            "text/plain": [
              "[4,\n",
              " 4,\n",
              " 4,\n",
              " 4,\n",
              " 2,\n",
              " 6,\n",
              " 4,\n",
              " 4,\n",
              " 10,\n",
              " 6,\n",
              " 2,\n",
              " 10,\n",
              " 6,\n",
              " 4,\n",
              " 10,\n",
              " 10,\n",
              " 10,\n",
              " 8,\n",
              " 8,\n",
              " 2,\n",
              " 4,\n",
              " 2,\n",
              " 2,\n",
              " 6,\n",
              " 10,\n",
              " 6,\n",
              " 6,\n",
              " 8,\n",
              " 10,\n",
              " 8,\n",
              " 6,\n",
              " 10,\n",
              " 2,\n",
              " 8,\n",
              " 4,\n",
              " 10,\n",
              " 6,\n",
              " 6,\n",
              " 8,\n",
              " 10,\n",
              " 8,\n",
              " 8,\n",
              " 2,\n",
              " 2,\n",
              " 4,\n",
              " 4,\n",
              " 2,\n",
              " 2,\n",
              " 2]"
            ]
          },
          "metadata": {},
          "execution_count": 29
        }
      ]
    }
  ]
}