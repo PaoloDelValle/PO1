{
  "nbformat": 4,
  "nbformat_minor": 0,
  "metadata": {
    "colab": {
      "provenance": []
    },
    "kernelspec": {
      "name": "python3",
      "display_name": "Python 3"
    },
    "language_info": {
      "name": "python"
    }
  },
  "cells": [
    {
      "cell_type": "markdown",
      "source": [
        "# Primeros objetos\n",
        "\n",
        "1. objetos.\n",
        "2. Listas.\n",
        "3. Conjuntos."
      ],
      "metadata": {
        "id": "Rh1r9B9qjjWa"
      }
    },
    {
      "cell_type": "markdown",
      "source": [
        "En Python se pueden realizar operaciones sobre objetos. además, es útil para resolver un sistema de ecuaciones lineales.\n",
        "\n",
        "$$\n",
        "\\begin{cases}\n",
        "x+2y = 3\\\\\n",
        "2x+4y = 6\n",
        "\\end{cases}\n",
        "$$"
      ],
      "metadata": {
        "id": "fsfGKrhDlYnP"
      }
    },
    {
      "cell_type": "code",
      "source": [
        "print(\"Hola Mundo!\")"
      ],
      "metadata": {
        "colab": {
          "base_uri": "https://localhost:8080/"
        },
        "id": "Hf55M2xLqy7S",
        "outputId": "83dbcfca-e8d9-4de3-b1ce-9b8c12c670fd"
      },
      "execution_count": 1,
      "outputs": [
        {
          "output_type": "stream",
          "name": "stdout",
          "text": [
            "Hola Mundo!\n"
          ]
        }
      ]
    },
    {
      "cell_type": "markdown",
      "source": [
        "## Primeros objetos\n",
        "\n",
        "*   Números enteros.\n",
        "*   Números flotantes.\n",
        "\n"
      ],
      "metadata": {
        "id": "qANUsYmOr1rT"
      }
    },
    {
      "cell_type": "code",
      "source": [
        "# Crear variables\n",
        "x = 3\n",
        "y = 5"
      ],
      "metadata": {
        "id": "4P5gEL42swAc"
      },
      "execution_count": 3,
      "outputs": []
    },
    {
      "cell_type": "code",
      "source": [
        "type(x + y)"
      ],
      "metadata": {
        "colab": {
          "base_uri": "https://localhost:8080/"
        },
        "id": "S9-0KPRdtFUH",
        "outputId": "fb4f062c-7516-469e-8741-61d21fa8fa71"
      },
      "execution_count": 11,
      "outputs": [
        {
          "output_type": "execute_result",
          "data": {
            "text/plain": [
              "int"
            ]
          },
          "metadata": {},
          "execution_count": 11
        }
      ]
    },
    {
      "cell_type": "code",
      "source": [
        "print(x%y)"
      ],
      "metadata": {
        "colab": {
          "base_uri": "https://localhost:8080/"
        },
        "id": "fJHBh8z8ut-z",
        "outputId": "ddcd29ae-3372-4973-e96e-a12024d58b70"
      },
      "execution_count": 5,
      "outputs": [
        {
          "output_type": "execute_result",
          "data": {
            "text/plain": [
              "3"
            ]
          },
          "metadata": {},
          "execution_count": 5
        }
      ]
    },
    {
      "cell_type": "code",
      "source": [
        "type(x/y)"
      ],
      "metadata": {
        "colab": {
          "base_uri": "https://localhost:8080/"
        },
        "id": "2UB9Ryw_xq5B",
        "outputId": "e701f0ce-74e2-438c-b9e3-c7a7fcdf1668"
      },
      "execution_count": 12,
      "outputs": [
        {
          "output_type": "execute_result",
          "data": {
            "text/plain": [
              "float"
            ]
          },
          "metadata": {},
          "execution_count": 12
        }
      ]
    }
  ]
}