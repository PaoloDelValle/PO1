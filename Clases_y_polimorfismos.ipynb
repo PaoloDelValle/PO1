{
  "cells": [
    {
      "cell_type": "markdown",
      "metadata": {
        "id": "GzgxmEWkrHQc"
      },
      "source": [
        "# Clases, herencia y polimorfismos"
      ]
    },
    {
      "cell_type": "markdown",
      "metadata": {
        "id": "XaYv_1XqrHQd"
      },
      "source": [
        "## Definiciones"
      ]
    },
    {
      "cell_type": "markdown",
      "metadata": {
        "id": "rFg5Mu_xrHQd"
      },
      "source": [
        "Las definiciones se crean de íntegramente (built-in) en Python. El método es `def`"
      ]
    },
    {
      "cell_type": "markdown",
      "metadata": {
        "id": "mFO_o8jWrHQe"
      },
      "source": [
        "Imaginemos que queremos crear una función global que salude a cierta persona."
      ]
    },
    {
      "cell_type": "code",
      "execution_count": 1,
      "metadata": {
        "id": "nLcdmD7brHQe"
      },
      "outputs": [],
      "source": [
        "def Hola( ): #Herencia\n",
        "    x = \"Hola!\"\n",
        "    return x"
      ]
    },
    {
      "cell_type": "code",
      "execution_count": 2,
      "metadata": {
        "id": "rBPwCesDrHQe",
        "outputId": "d95bed31-7772-4298-a0f9-3236f42253d7",
        "colab": {
          "base_uri": "https://localhost:8080/",
          "height": 35
        }
      },
      "outputs": [
        {
          "output_type": "execute_result",
          "data": {
            "text/plain": [
              "'Hola!'"
            ],
            "application/vnd.google.colaboratory.intrinsic+json": {
              "type": "string"
            }
          },
          "metadata": {},
          "execution_count": 2
        }
      ],
      "source": [
        "Hola( ) # imprime el texto"
      ]
    },
    {
      "cell_type": "code",
      "execution_count": 3,
      "metadata": {
        "id": "8Bbn7tfbrHQf"
      },
      "outputs": [],
      "source": [
        "def Hi():# creas la clase e imprime el texto\n",
        "    print(\"Hi!\")"
      ]
    },
    {
      "cell_type": "code",
      "execution_count": 4,
      "metadata": {
        "id": "VyqR7A_frHQf",
        "outputId": "60593c98-9780-4db4-c8ac-c4542f2f27a9",
        "colab": {
          "base_uri": "https://localhost:8080/"
        }
      },
      "outputs": [
        {
          "output_type": "stream",
          "name": "stdout",
          "text": [
            "Hi!\n"
          ]
        }
      ],
      "source": [
        "Hi()"
      ]
    },
    {
      "cell_type": "code",
      "execution_count": 5,
      "metadata": {
        "id": "_V34ZAcXrHQf"
      },
      "outputs": [],
      "source": [
        "# Podemos crear una función que haga la concatenación de dos listas\n",
        "\n",
        "def conc(L,M):\n",
        "    x = L+M\n",
        "    return x"
      ]
    },
    {
      "cell_type": "code",
      "execution_count": 6,
      "metadata": {
        "id": "OxiWaUporHQf",
        "outputId": "11a9d532-45d4-4201-8b50-8d800b510c75",
        "colab": {
          "base_uri": "https://localhost:8080/"
        }
      },
      "outputs": [
        {
          "output_type": "execute_result",
          "data": {
            "text/plain": [
              "5"
            ]
          },
          "metadata": {},
          "execution_count": 6
        }
      ],
      "source": [
        "conc(3,2) # si tiene numeros los suma"
      ]
    },
    {
      "cell_type": "code",
      "execution_count": 7,
      "metadata": {
        "id": "Ky25Smw2rHQf"
      },
      "outputs": [],
      "source": [
        "L = [1,2]\n",
        "M = [3,4]"
      ]
    },
    {
      "cell_type": "code",
      "execution_count": 8,
      "metadata": {
        "id": "15Z72cVHrHQg",
        "outputId": "41ebbe8f-58fc-4bf1-ad6e-3a02a3d8bcbf",
        "colab": {
          "base_uri": "https://localhost:8080/"
        }
      },
      "outputs": [
        {
          "output_type": "execute_result",
          "data": {
            "text/plain": [
              "[1, 2, 3, 4]"
            ]
          },
          "metadata": {},
          "execution_count": 8
        }
      ],
      "source": [
        "conc(L,M) # si tiene listas las junta"
      ]
    },
    {
      "cell_type": "code",
      "execution_count": 9,
      "metadata": {
        "id": "8uOD9nHkrHQg"
      },
      "outputs": [],
      "source": [
        "# Crear una definición que sume entrada dos listas\n",
        "\n",
        "def suma_vectores(v, w):\n",
        "    x = [v[i]+w[i] for i in range(0,3)]\n",
        "    return x"
      ]
    },
    {
      "cell_type": "code",
      "execution_count": 10,
      "metadata": {
        "id": "6Qs-psVgrHQg",
        "outputId": "cd36f737-1d17-43fa-cfc4-a2468197f931",
        "colab": {
          "base_uri": "https://localhost:8080/"
        }
      },
      "outputs": [
        {
          "output_type": "execute_result",
          "data": {
            "text/plain": [
              "[2, 4, 6]"
            ]
          },
          "metadata": {},
          "execution_count": 10
        }
      ],
      "source": [
        "suma_vectores( [1,2,3], [1,2,3] )"
      ]
    },
    {
      "cell_type": "markdown",
      "metadata": {
        "id": "LrNsXxFBrHQg"
      },
      "source": [
        "## Clases"
      ]
    },
    {
      "cell_type": "markdown",
      "metadata": {
        "id": "vMCM35IYrHQg"
      },
      "source": [
        "- No tomen argumentos\n",
        "- Muestra enunciados usando el método de inicialización `init`.\n",
        "- El método para crear clases es `class`."
      ]
    },
    {
      "cell_type": "code",
      "execution_count": 11,
      "metadata": {
        "id": "XPff2y3ZrHQg"
      },
      "outputs": [],
      "source": [
        "class Animal(): # Creas una clase madre\n",
        "\n",
        "    def _init_(self):\n",
        "        print(\"creamos una clase\")\n",
        "\n",
        "    def adivina(self):\n",
        "        print(\"Hola, soy un animal\")\n",
        "\n",
        "    def escribir(self):\n",
        "        print(\"Estoy escribiendo\")"
      ]
    },
    {
      "cell_type": "code",
      "execution_count": 11,
      "metadata": {
        "id": "IITa2dDKrHQg"
      },
      "outputs": [],
      "source": []
    },
    {
      "cell_type": "code",
      "execution_count": 12,
      "metadata": {
        "id": "rLonpJGnrHQh",
        "outputId": "499b01f4-48ad-4c63-c67f-a126fc6963c2",
        "colab": {
          "base_uri": "https://localhost:8080/"
        }
      },
      "outputs": [
        {
          "output_type": "execute_result",
          "data": {
            "text/plain": [
              "__main__.Animal"
            ]
          },
          "metadata": {},
          "execution_count": 12
        }
      ],
      "source": [
        "type(Animal()) # Llamas las diferentes definiciones"
      ]
    },
    {
      "cell_type": "code",
      "execution_count": 13,
      "metadata": {
        "id": "wxB16gYerHQh"
      },
      "outputs": [],
      "source": [
        "animal = Animal()"
      ]
    },
    {
      "cell_type": "code",
      "execution_count": 14,
      "metadata": {
        "id": "nyqC5jbtrHQh",
        "outputId": "b98649a7-bbec-4004-ceda-da5ac9c06cc5",
        "colab": {
          "base_uri": "https://localhost:8080/"
        }
      },
      "outputs": [
        {
          "output_type": "stream",
          "name": "stdout",
          "text": [
            "Hola, soy un animal\n"
          ]
        }
      ],
      "source": [
        "animal.adivina()"
      ]
    },
    {
      "cell_type": "code",
      "execution_count": 15,
      "metadata": {
        "id": "j3oYhT21rHQh",
        "outputId": "4ad97ba7-fcce-40a3-ee39-06733ef97445",
        "colab": {
          "base_uri": "https://localhost:8080/"
        }
      },
      "outputs": [
        {
          "output_type": "stream",
          "name": "stdout",
          "text": [
            "Estoy escribiendo\n"
          ]
        }
      ],
      "source": [
        "animal.escribir()"
      ]
    },
    {
      "cell_type": "markdown",
      "metadata": {
        "id": "f9fhVjpnrHQh"
      },
      "source": [
        "## Herencia"
      ]
    },
    {
      "cell_type": "markdown",
      "metadata": {
        "id": "eVAMtIuhrHQh"
      },
      "source": [
        "Crear nuevas clases inherentes a métodos de la \"clase base\"."
      ]
    },
    {
      "cell_type": "code",
      "execution_count": 16,
      "metadata": {
        "id": "ndzWVnELrHQh"
      },
      "outputs": [],
      "source": [
        "class Perro(Animal): # Hace una clase herencia\n",
        "\n",
        "    def __init__(self):\n",
        "        Animal._init_(self)\n",
        "        print(\"Creamos una clase Perro\")\n",
        "\n",
        "    def adivina(self):\n",
        "        print(\"Soy Cleto\")\n",
        "\n",
        "    def wuaw(self):\n",
        "        print(\"WUAU\")"
      ]
    },
    {
      "cell_type": "code",
      "execution_count": 17,
      "metadata": {
        "id": "oJ9NjUTfrHQi",
        "outputId": "16e7a376-9698-4f0c-cb73-cc6f5aadcec0",
        "colab": {
          "base_uri": "https://localhost:8080/"
        }
      },
      "outputs": [
        {
          "output_type": "stream",
          "name": "stdout",
          "text": [
            "creamos una clase\n",
            "Creamos una clase Perro\n"
          ]
        }
      ],
      "source": [
        "perro = Perro() # llama las definiciones de la clase herencia"
      ]
    },
    {
      "cell_type": "code",
      "execution_count": 18,
      "metadata": {
        "id": "Qk4tIszerHQi",
        "outputId": "6cb579d5-7b46-4d44-bf70-979c6f7f600c",
        "colab": {
          "base_uri": "https://localhost:8080/"
        }
      },
      "outputs": [
        {
          "output_type": "execute_result",
          "data": {
            "text/plain": [
              "<__main__.Perro at 0x7883ac222bf0>"
            ]
          },
          "metadata": {},
          "execution_count": 18
        }
      ],
      "source": [
        "perro"
      ]
    },
    {
      "cell_type": "code",
      "execution_count": 19,
      "metadata": {
        "id": "dtL4ZeyKrHQi",
        "outputId": "b4c0ad15-3ad4-408d-eefa-8e01b327f755",
        "colab": {
          "base_uri": "https://localhost:8080/"
        }
      },
      "outputs": [
        {
          "output_type": "stream",
          "name": "stdout",
          "text": [
            "Hola, soy un animal\n",
            "None\n",
            "Soy Cleto\n",
            "None\n"
          ]
        }
      ],
      "source": [
        "print(animal.adivina()) # Imprimier el return de las definiciones\n",
        "print(perro.adivina())"
      ]
    },
    {
      "cell_type": "code",
      "execution_count": 20,
      "metadata": {
        "id": "W6Z5lhb8rHQi",
        "outputId": "c6aebeea-b344-4fd0-f61b-02b8271c47ac",
        "colab": {
          "base_uri": "https://localhost:8080/"
        }
      },
      "outputs": [
        {
          "output_type": "stream",
          "name": "stdout",
          "text": [
            "WUAU\n"
          ]
        }
      ],
      "source": [
        "perro.wuaw() # llamas a mas definiciones de la clase madre o heredad"
      ]
    },
    {
      "cell_type": "code",
      "execution_count": 21,
      "metadata": {
        "id": "YF6nfpG0rHQi",
        "outputId": "dc9f0906-cf99-42a8-efde-b9524f1caec0",
        "colab": {
          "base_uri": "https://localhost:8080/"
        }
      },
      "outputs": [
        {
          "output_type": "stream",
          "name": "stdout",
          "text": [
            "Soy Cleto\n"
          ]
        }
      ],
      "source": [
        "perro.adivina()"
      ]
    },
    {
      "cell_type": "markdown",
      "metadata": {
        "id": "bT-ZKxvcrHQi"
      },
      "source": [
        "### Ejemplo"
      ]
    },
    {
      "cell_type": "code",
      "execution_count": 22,
      "metadata": {
        "id": "AHeY01W3rHQi"
      },
      "outputs": [],
      "source": [
        "class Fecha(): # Creas clase madre\n",
        "\n",
        "    def _init_(self):\n",
        "        print(\"creamos una clase que da la fecha\")\n",
        "\n",
        "    def fecha(self):\n",
        "        return \"2022-25-08\"\n"
      ]
    },
    {
      "cell_type": "code",
      "execution_count": 23,
      "metadata": {
        "id": "TnbqWq0-rHQj"
      },
      "outputs": [],
      "source": [
        "f = Fecha() # cambias el escrito para llamar a la clase"
      ]
    },
    {
      "cell_type": "code",
      "execution_count": 24,
      "metadata": {
        "id": "DqI49nAHrHQj",
        "outputId": "c269d627-26e9-4cd9-9aab-ab99d1844dc0",
        "colab": {
          "base_uri": "https://localhost:8080/",
          "height": 35
        }
      },
      "outputs": [
        {
          "output_type": "execute_result",
          "data": {
            "text/plain": [
              "'2022-25-08'"
            ],
            "application/vnd.google.colaboratory.intrinsic+json": {
              "type": "string"
            }
          },
          "metadata": {},
          "execution_count": 24
        }
      ],
      "source": [
        "f.fecha()"
      ]
    },
    {
      "cell_type": "code",
      "execution_count": 25,
      "metadata": {
        "id": "V38tHADjrHQj"
      },
      "outputs": [],
      "source": [
        "class Tiempo(Fecha): # Creas una clase heredada\n",
        "\n",
        "    def _init_(self):\n",
        "        Fecha._init_(self)\n",
        "        print(\"Creamos una clase Tiempo\")\n",
        "\n",
        "    def hora(self): # Creas un texto el cual la consola va a devolver\n",
        "        return \"7:00\""
      ]
    },
    {
      "cell_type": "code",
      "execution_count": 26,
      "metadata": {
        "id": "VdIbSawHrHQj",
        "outputId": "ec02ab0a-77e8-40f7-c52b-d8c9d8f913ce",
        "colab": {
          "base_uri": "https://localhost:8080/",
          "height": 35
        }
      },
      "outputs": [
        {
          "output_type": "execute_result",
          "data": {
            "text/plain": [
              "'7:00'"
            ],
            "application/vnd.google.colaboratory.intrinsic+json": {
              "type": "string"
            }
          },
          "metadata": {},
          "execution_count": 26
        }
      ],
      "source": [
        "t = Tiempo() # Cambias el texto para llamar a la definicion\n",
        "\n",
        "t.hora()"
      ]
    },
    {
      "cell_type": "markdown",
      "metadata": {
        "id": "aulKEFl8rHQj"
      },
      "source": [
        "### Métodos objeto"
      ]
    },
    {
      "cell_type": "markdown",
      "metadata": {
        "id": "dp-cd425rHQj"
      },
      "source": [
        "`_init_` inicializa la clase base.\n",
        "`__init__` inicializa la clase base y sirve como constructor. Ojo: se ponen dos guiones abajo al principio y al final."
      ]
    },
    {
      "cell_type": "code",
      "execution_count": 27,
      "metadata": {
        "id": "ThcCeFVdrHQj"
      },
      "outputs": [],
      "source": [
        "class Persona(): # Creas la clase madre\n",
        "\n",
        "    def __init__(self, nombre):\n",
        "        self.nombre = nombre\n",
        "\n",
        "    def greet(self):\n",
        "        print(\"Hola, mi nombre es\", self.nombre)"
      ]
    },
    {
      "cell_type": "code",
      "execution_count": 28,
      "metadata": {
        "id": "__t9xG28rHQk"
      },
      "outputs": [],
      "source": [
        "p = Persona(\"Aarón\")"
      ]
    },
    {
      "cell_type": "code",
      "execution_count": 29,
      "metadata": {
        "id": "LPKdyYCBrHQk",
        "outputId": "0a62667c-11df-434d-bad9-6d6140c45afd",
        "colab": {
          "base_uri": "https://localhost:8080/"
        }
      },
      "outputs": [
        {
          "output_type": "stream",
          "name": "stdout",
          "text": [
            "Hola, mi nombre es Aarón\n"
          ]
        }
      ],
      "source": [
        "p.greet()"
      ]
    },
    {
      "cell_type": "code",
      "execution_count": 30,
      "metadata": {
        "id": "N0-U4jmWrHQk"
      },
      "outputs": [],
      "source": [
        "class Complex(): # Clase madre\n",
        "\n",
        "    def __init__(self, real, imaginaria): # Llaman a la clase madre y basta con la iniciale de el return\n",
        "\n",
        "        self.r = real\n",
        "        self.i = imaginaria"
      ]
    },
    {
      "cell_type": "code",
      "execution_count": 31,
      "metadata": {
        "id": "oD84VSxirHQk"
      },
      "outputs": [],
      "source": [
        "z = Complex(3.0,4.0) # Defines contenido de la clase"
      ]
    },
    {
      "cell_type": "code",
      "execution_count": 32,
      "metadata": {
        "id": "8jLfNq1orHQk",
        "outputId": "4b2d62a8-1984-4067-94ae-e45a0ba03d08",
        "colab": {
          "base_uri": "https://localhost:8080/"
        }
      },
      "outputs": [
        {
          "output_type": "execute_result",
          "data": {
            "text/plain": [
              "3.0"
            ]
          },
          "metadata": {},
          "execution_count": 32
        }
      ],
      "source": [
        "z.r"
      ]
    },
    {
      "cell_type": "code",
      "execution_count": 33,
      "metadata": {
        "id": "f8gO0qyZrHQl",
        "outputId": "1e0b25ea-dfb4-4666-8f73-b82b504a2553",
        "colab": {
          "base_uri": "https://localhost:8080/"
        }
      },
      "outputs": [
        {
          "output_type": "execute_result",
          "data": {
            "text/plain": [
              "4.0"
            ]
          },
          "metadata": {},
          "execution_count": 33
        }
      ],
      "source": [
        "z.i # ya con el cambio de texto para llamar a las clases y definicones, las aplicas"
      ]
    },
    {
      "cell_type": "code",
      "execution_count": 34,
      "metadata": {
        "id": "RlH7D0C5rHQl"
      },
      "outputs": [],
      "source": [
        "class Perro(): # clase madre\n",
        "\n",
        "    animal = \"perrito\"\n",
        "\n",
        "    def __init__(self, Raza, Color, Edad): # agrupado de definiciones\n",
        "        self.Raza = Raza\n",
        "        self.Color = Color\n",
        "        self.Edad = Edad\n"
      ]
    },
    {
      "cell_type": "code",
      "execution_count": 35,
      "metadata": {
        "id": "3XmcyuaurHQl"
      },
      "outputs": [],
      "source": [
        "Cleto = Perro(\"Pug\", \"beige\", \"viejito\") # agrupas los textos de return para la clase"
      ]
    },
    {
      "cell_type": "code",
      "execution_count": 36,
      "metadata": {
        "id": "nz5-UyUtrHQl",
        "outputId": "7f75c7ac-492c-454c-d363-8653375369ed",
        "colab": {
          "base_uri": "https://localhost:8080/"
        }
      },
      "outputs": [
        {
          "output_type": "stream",
          "name": "stdout",
          "text": [
            "Cleto detalles:\n",
            "Cleto es un perrito\n",
            "La raza de Cleto es Pug\n",
            "El color de Cleto es beige\n",
            "La edad de Cleto es viejito\n"
          ]
        }
      ],
      "source": [
        "print(\"Cleto detalles:\") # agrupacion de return de textos\n",
        "\n",
        "print(\"Cleto es un\", Cleto.animal)\n",
        "\n",
        "print(\"La raza de Cleto es\", Cleto.Raza)\n",
        "\n",
        "print(\"El color de Cleto es\", Cleto.Color)\n",
        "\n",
        "print(\"La edad de Cleto es\", Cleto.Edad)"
      ]
    },
    {
      "cell_type": "markdown",
      "metadata": {
        "id": "ya-c5WwRrHQl"
      },
      "source": [
        "## Otro ejemplo"
      ]
    },
    {
      "cell_type": "code",
      "execution_count": 37,
      "metadata": {
        "id": "-O6oCpIArHQl"
      },
      "outputs": [],
      "source": [
        "class Empleados(): # Clase Madre\n",
        "\n",
        "    Conteo = 0\n",
        "\n",
        "    def __init__(self, nombre, salario): # Polimorfismo\n",
        "        self.nombre = nombre\n",
        "        self.salario = salario\n",
        "        Empleados.Conteo += 1\n",
        "\n",
        "    def conteo(self):\n",
        "        print(\"Empleados %d\" % Empleados.Conteo) # asignas definiciones con texto en return\n",
        "\n",
        "\n",
        "    def empleado(self):\n",
        "        print(\"Nombre:\", self.nombre, \",Salario:\", self.salario)"
      ]
    },
    {
      "cell_type": "code",
      "execution_count": 38,
      "metadata": {
        "id": "_-VfeReKrHQm"
      },
      "outputs": [],
      "source": [
        "emp1 = Empleados(\"Carlos\", 10000) # Llamas al return"
      ]
    },
    {
      "cell_type": "code",
      "execution_count": 39,
      "metadata": {
        "id": "42H-_UsmrHQm"
      },
      "outputs": [],
      "source": [
        "emp2 = Empleados(\"Esteban\", 30000)"
      ]
    },
    {
      "cell_type": "code",
      "execution_count": 40,
      "metadata": {
        "id": "JTK5tvKerHQm",
        "outputId": "e9bb7dd8-0cff-4f48-b5aa-c10bceb9aaff",
        "colab": {
          "base_uri": "https://localhost:8080/"
        }
      },
      "outputs": [
        {
          "output_type": "stream",
          "name": "stdout",
          "text": [
            "Nombre: Esteban ,Salario: 30000\n"
          ]
        }
      ],
      "source": [
        "emp2.empleado()"
      ]
    },
    {
      "cell_type": "code",
      "execution_count": 41,
      "metadata": {
        "id": "I1zbKIvgrHQm",
        "outputId": "71ac7553-8df7-4dea-eba0-530e61013cca",
        "colab": {
          "base_uri": "https://localhost:8080/"
        }
      },
      "outputs": [
        {
          "output_type": "execute_result",
          "data": {
            "text/plain": [
              "2"
            ]
          },
          "metadata": {},
          "execution_count": 41
        }
      ],
      "source": [
        "Empleados.Conteo"
      ]
    },
    {
      "cell_type": "code",
      "execution_count": 42,
      "metadata": {
        "id": "66tloWY4rHQm",
        "outputId": "2900bcb2-94f7-4cac-e9d4-e012d4cc67d0",
        "colab": {
          "base_uri": "https://localhost:8080/"
        }
      },
      "outputs": [
        {
          "output_type": "stream",
          "name": "stdout",
          "text": [
            "Total de empleados 4\n"
          ]
        }
      ],
      "source": [
        "emp1 = Empleados(\"Carlos\", 10000)\n",
        "emp2 = Empleados(\"Esteban\", 30000)\n",
        "\n",
        "print(\"Total de empleados %d\" % Empleados.Conteo)"
      ]
    },
    {
      "cell_type": "markdown",
      "metadata": {
        "id": "AvV1KNjRrHQm"
      },
      "source": [
        "## Clases, herencias y polimorfismos"
      ]
    },
    {
      "cell_type": "code",
      "execution_count": 43,
      "metadata": {
        "id": "8emfc6qOrHQm"
      },
      "outputs": [],
      "source": [
        "class Person:\n",
        "\n",
        "    def __init__(self, last_name, first_name, age): # polimorfismo\n",
        "        self.__last_name = last_name\n",
        "        self.__first_name = first_name\n",
        "        self.__age = age\n",
        "\n",
        "    @property # llama a las definiciones y usarlas con otras\n",
        "    def last_name(self):\n",
        "        return self.__last_name\n",
        "\n",
        "    @property\n",
        "    def first_name(self):\n",
        "        return self.__first_name\n",
        "\n",
        "    @property\n",
        "    def age(self):\n",
        "        return self.__age\n",
        "\n",
        "    def happy_birthday(self):\n",
        "        self.__age = self.age + 1"
      ]
    },
    {
      "cell_type": "code",
      "execution_count": null,
      "metadata": {
        "id": "CGGdbKDPrHQn"
      },
      "outputs": [],
      "source": [
        "cesar = Person(\"Gal\", \"César\", 25) # camboias el etxto de llamada a la clase madre o definicion\n",
        "print(cesar.last_name)\n",
        "print(john.happy_birthday)"
      ]
    },
    {
      "cell_type": "code",
      "execution_count": null,
      "metadata": {
        "id": "7beysN2irHQn"
      },
      "outputs": [],
      "source": [
        "class PrimeNumber:\n",
        "    def __init__(self, number):\n",
        "        self.number = number\n",
        "\n",
        "    def is_prime(self):\n",
        "        if self.number < 2:\n",
        "            return False\n",
        "        for i in range(2, int(self.number ** 0.5) + 1):\n",
        "            if self.number % i == 0:\n",
        "                return False\n",
        "        return True\n",
        "\n",
        "class PositivePrimeNumber(PrimeNumber):\n",
        "    def __init__(self, number):\n",
        "        if number <= 0:\n",
        "            raise ValueError(\"El número debe ser positivo\")\n",
        "        super().__init__(number)\n",
        "\n",
        "# Example usage:\n",
        "num1 = PrimeNumber(7)\n",
        "print(num1.is_prime())  # Output: True\n",
        "\n",
        "num2 = PositivePrimeNumber(11)\n",
        "print(num2.is_prime())  # Output: True"
      ]
    },
    {
      "cell_type": "code",
      "execution_count": null,
      "metadata": {
        "id": "Dry4YacrrHQn"
      },
      "outputs": [],
      "source": []
    }
  ],
  "metadata": {
    "kernelspec": {
      "display_name": "Python 3 (ipykernel)",
      "language": "python",
      "name": "python3"
    },
    "language_info": {
      "codemirror_mode": {
        "name": "ipython",
        "version": 3
      },
      "file_extension": ".py",
      "mimetype": "text/x-python",
      "name": "python",
      "nbconvert_exporter": "python",
      "pygments_lexer": "ipython3",
      "version": "3.9.13"
    },
    "colab": {
      "provenance": []
    }
  },
  "nbformat": 4,
  "nbformat_minor": 0
}