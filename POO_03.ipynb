{
  "nbformat": 4,
  "nbformat_minor": 0,
  "metadata": {
    "colab": {
      "provenance": []
    },
    "kernelspec": {
      "name": "python3",
      "display_name": "Python 3"
    },
    "language_info": {
      "name": "python"
    }
  },
  "cells": [
    {
      "cell_type": "code",
      "source": [
        "def Area(b,l):\n",
        "  a = b*l/2\n",
        "  return a"
      ],
      "metadata": {
        "id": "1h9vpeL7YjvX"
      },
      "execution_count": 1,
      "outputs": []
    },
    {
      "cell_type": "code",
      "source": [
        "def Perimetro(b,l):\n",
        "  p=(b*2)+l\n",
        "  return p"
      ],
      "metadata": {
        "id": "ivKKCcAxacT0"
      },
      "execution_count": 2,
      "outputs": []
    },
    {
      "cell_type": "code",
      "source": [
        "Area(2,6)"
      ],
      "metadata": {
        "colab": {
          "base_uri": "https://localhost:8080/"
        },
        "id": "7kciNQ1bar06",
        "outputId": "f96c823f-cc9a-4839-cc0d-ad522423c054"
      },
      "execution_count": 3,
      "outputs": [
        {
          "output_type": "execute_result",
          "data": {
            "text/plain": [
              "6.0"
            ]
          },
          "metadata": {},
          "execution_count": 3
        }
      ]
    },
    {
      "cell_type": "code",
      "source": [
        "n=int(input(\"ingresa:\"))\n",
        "L=[i for i in range (1,n)if n%i==0]\n",
        "L"
      ],
      "metadata": {
        "colab": {
          "base_uri": "https://localhost:8080/"
        },
        "id": "J9k10Xqzg8PR",
        "outputId": "d5beb47e-cbbb-40da-e45d-fea877a8ca6c"
      },
      "execution_count": 6,
      "outputs": [
        {
          "name": "stdout",
          "output_type": "stream",
          "text": [
            "ingresa:6\n"
          ]
        },
        {
          "output_type": "execute_result",
          "data": {
            "text/plain": [
              "[1, 2, 3]"
            ]
          },
          "metadata": {},
          "execution_count": 6
        }
      ]
    },
    {
      "cell_type": "code",
      "source": [
        "if(sum(L)==n):\n",
        "  print(\"Es perfecto\")"
      ],
      "metadata": {
        "colab": {
          "base_uri": "https://localhost:8080/"
        },
        "id": "5QxNtbjzn_7n",
        "outputId": "07466d0d-df3c-4a40-db49-34f44340800f"
      },
      "execution_count": 7,
      "outputs": [
        {
          "output_type": "stream",
          "name": "stdout",
          "text": [
            "Es perfecto\n"
          ]
        }
      ]
    }
  ]
}