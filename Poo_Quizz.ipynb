{
  "nbformat": 4,
  "nbformat_minor": 0,
  "metadata": {
    "colab": {
      "provenance": []
    },
    "kernelspec": {
      "name": "python3",
      "display_name": "Python 3"
    },
    "language_info": {
      "name": "python"
    }
  },
  "cells": [
    {
      "cell_type": "markdown",
      "source": [
        "# **Quizz de Poo**"
      ],
      "metadata": {
        "id": "wI95pxFgoKas"
      }
    },
    {
      "cell_type": "code",
      "source": [
        "import numpy as np\n",
        "\n",
        "class Formulas:\n",
        "    def __init__(self):\n",
        "        # Inicialización básica de la clase madre.\n",
        "        super().__init__()\n",
        "\n",
        "class TrianguloEquilatero(Formulas):\n",
        "    def __init__(self, lado):\n",
        "        super().__init__()  # Asegura la inicialización adecuada con la clase madre.\n",
        "        self.lado = lado\n",
        "\n",
        "    def calcular_area(self):\n",
        "        # Calcula la altura y luego el área del triángulo equilátero.\n",
        "        altura = (np.sqrt(3) / 2) * self.lado\n",
        "        return (self.lado * altura) / 2\n",
        "\n",
        "    def calcular_perimetro(self):\n",
        "        return 3 * self.lado\n",
        "\n",
        "class TransformarMatriz(Formulas):\n",
        "    def __init__(self, lista):\n",
        "        super().__init__()  # Asegura la inicialización adecuada con la clase madre.\n",
        "        self.lista = lista  # Asume que la lista ya es de tamaño adecuado (16 elementos).\n",
        "\n",
        "    def transformar(self):\n",
        "        # Directamente intenta transformar la lista en una matriz 4x4.\n",
        "        return np.array(self.lista).reshape(4, 4)\n",
        "\n",
        "class CalcularDeterminante(Formulas):\n",
        "    def __init__(self, matriz):\n",
        "        super().__init__()  # Asegura la inicialización adecuada con la clase madre.\n",
        "        self.matriz = matriz\n",
        "\n",
        "    def determinante(self):\n",
        "        return (np.linalg.det(matriz))\n",
        "\n",
        "\n",
        "\n",
        "\n",
        "\n"
      ],
      "metadata": {
        "id": "U_st6LGKoT2e"
      },
      "execution_count": 38,
      "outputs": []
    },
    {
      "cell_type": "code",
      "source": [
        "# Crear una instancia de TrianguloEquilatero con un lado de longitud l\n",
        "lado = 5  # Ejemplo con lado de 5 unidades\n",
        "triangulo = TrianguloEquilatero(lado)\n",
        "\n",
        "# Calcular el área\n",
        "area = triangulo.calcular_area()\n",
        "print(f\"Área del triángulo equilátero: {area}\")\n",
        "\n",
        "# Calcular el perímetro\n",
        "perimetro = triangulo.calcular_perimetro()\n",
        "print(f\"Perímetro del triángulo equilátero: {perimetro}\")\n"
      ],
      "metadata": {
        "colab": {
          "base_uri": "https://localhost:8080/"
        },
        "id": "a2b-iEu0tHdR",
        "outputId": "27639110-952c-4a53-c53f-6a5bf7245a7e"
      },
      "execution_count": 35,
      "outputs": [
        {
          "output_type": "stream",
          "name": "stdout",
          "text": [
            "Área del triángulo equilátero: 10.825317547305481\n",
            "Perímetro del triángulo equilátero: 15\n"
          ]
        }
      ]
    },
    {
      "cell_type": "code",
      "source": [
        "# Lista de 16 elementos\n",
        "lista = [i for i in range(1, 17)]  # Ejemplo con números del 1 al 16\n",
        "\n",
        "# Crear una instancia de TransformarMatriz con la lista\n",
        "transformador = TransformarMatriz(lista)\n",
        "\n",
        "# Transformar la lista en una matriz 4x4\n",
        "matriz = transformador.transformar()\n",
        "print(\"Matriz 4x4 resultante:\")\n",
        "print(matriz)\n"
      ],
      "metadata": {
        "colab": {
          "base_uri": "https://localhost:8080/"
        },
        "id": "B99kekSh2xp0",
        "outputId": "be03963d-1a66-404f-ad2e-926be0def559"
      },
      "execution_count": 36,
      "outputs": [
        {
          "output_type": "stream",
          "name": "stdout",
          "text": [
            "Matriz 4x4 resultante:\n",
            "[[ 1  2  3  4]\n",
            " [ 5  6  7  8]\n",
            " [ 9 10 11 12]\n",
            " [13 14 15 16]]\n"
          ]
        }
      ]
    },
    {
      "cell_type": "code",
      "source": [
        "\n",
        "\n",
        "\n",
        "calculador = CalcularDeterminante(matriz)\n",
        "\n",
        "\n",
        "determinante = calculador.determinante()\n",
        "print(f\"Determinante de la matriz: {determinante}\")\n"
      ],
      "metadata": {
        "colab": {
          "base_uri": "https://localhost:8080/"
        },
        "id": "M7klX9-a5osI",
        "outputId": "fbe98ddb-2094-41aa-c675-48ef67267ba7"
      },
      "execution_count": 41,
      "outputs": [
        {
          "output_type": "stream",
          "name": "stdout",
          "text": [
            "Determinante de la matriz: 0.0\n"
          ]
        }
      ]
    }
  ]
}